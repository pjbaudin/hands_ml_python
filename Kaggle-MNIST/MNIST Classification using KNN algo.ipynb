{
 "cells": [
  {
   "cell_type": "code",
   "execution_count": 1,
   "metadata": {},
   "outputs": [],
   "source": [
    "import numpy as np\n",
    "import pandas as pd\n",
    "\n",
    "import matplotlib.pyplot as plt\n",
    "%matplotlib inline\n",
    "\n",
    "from sklearn.model_selection import train_test_split\n",
    "from sklearn.neighbors import KNeighborsClassifier\n",
    "from sklearn.metrics import confusion_matrix\n",
    "from sklearn.metrics import classification_report\n"
   ]
  },
  {
   "cell_type": "code",
   "execution_count": 2,
   "metadata": {},
   "outputs": [],
   "source": [
    "train = pd.read_csv(\"./input/train.csv\")\n",
    "test = pd.read_csv(\"./input/test.csv\")\n",
    "\n",
    "X_train_d = train.iloc[:, 1:]\n",
    "y_train_d = train.iloc[:,0]\n"
   ]
  },
  {
   "cell_type": "code",
   "execution_count": 20,
   "metadata": {},
   "outputs": [],
   "source": [
    "# now, let's take 10% of the training data and use that for validation\n",
    "(X_tr, X_test, y_tr, y_test) = train_test_split(X_train_d, y_train_d, test_size=0.3, random_state=84)\n",
    "(X_train, X_val, y_train, y_val) = train_test_split(X_tr, y_tr, test_size=0.1, random_state=84)"
   ]
  },
  {
   "cell_type": "code",
   "execution_count": 4,
   "metadata": {},
   "outputs": [],
   "source": [
    "# initialize the values of k for our k-Nearest Neighbor classifier along with the\n",
    "# list of accuracies for each value of k\n",
    "\n",
    "kVals = range(1, 30, 2)\n",
    "accuracies = []"
   ]
  },
  {
   "cell_type": "code",
   "execution_count": 5,
   "metadata": {},
   "outputs": [
    {
     "name": "stdout",
     "output_type": "stream",
     "text": [
      "k=1, accuracy=97.10%\n",
      "k=3, accuracy=97.19%\n",
      "k=5, accuracy=97.10%\n",
      "k=7, accuracy=96.81%\n",
      "k=9, accuracy=96.74%\n",
      "k=11, accuracy=96.67%\n",
      "k=13, accuracy=96.38%\n",
      "k=15, accuracy=96.24%\n",
      "k=17, accuracy=96.14%\n",
      "k=19, accuracy=96.10%\n",
      "k=21, accuracy=95.93%\n",
      "k=23, accuracy=95.74%\n",
      "k=25, accuracy=95.64%\n",
      "k=27, accuracy=95.57%\n",
      "k=29, accuracy=95.38%\n"
     ]
    }
   ],
   "source": [
    "# loop over various values of `k` for the k-Nearest Neighbor classifier\n",
    "\n",
    "for k in range(1, 30, 2):\n",
    "          # train the k-Nearest Neighbor classifier with the current value of `k`\n",
    "          knn_clf = KNeighborsClassifier(n_neighbors=k)\n",
    "          knn_clf.fit(X_train, y_train)\n",
    "          # evaluate the model and update the accuracies list\n",
    "          score = knn_clf.score(X_val, y_val)\n",
    "          print(\"k=%d, accuracy=%.2f%%\" % (k, score * 100))\n",
    "          accuracies.append(score)"
   ]
  },
  {
   "cell_type": "code",
   "execution_count": 6,
   "metadata": {},
   "outputs": [
    {
     "name": "stdout",
     "output_type": "stream",
     "text": [
      "k=3 achieved highest accuracy of 97.19% on validation data\n"
     ]
    }
   ],
   "source": [
    "# find the value of k that has the largest accuracy\n",
    "\n",
    "i = np.argmax(accuracies)\n",
    "print(\"k=%d achieved highest accuracy of %.2f%% on validation data\" % (kVals[i],\n",
    "accuracies[i] * 100))"
   ]
  },
  {
   "cell_type": "code",
   "execution_count": 21,
   "metadata": {},
   "outputs": [
    {
     "name": "stdout",
     "output_type": "stream",
     "text": [
      "EVALUATION ON TESTING DATA\n",
      "              precision    recall  f1-score   support\n",
      "\n",
      "           0       0.97      1.00      0.98      1224\n",
      "           1       0.95      1.00      0.97      1411\n",
      "           2       0.98      0.95      0.97      1262\n",
      "           3       0.96      0.96      0.96      1314\n",
      "           4       0.96      0.96      0.96      1184\n",
      "           5       0.96      0.96      0.96      1147\n",
      "           6       0.97      0.99      0.98      1202\n",
      "           7       0.95      0.97      0.96      1351\n",
      "           8       0.99      0.91      0.95      1245\n",
      "           9       0.95      0.95      0.95      1260\n",
      "\n",
      "   micro avg       0.96      0.96      0.96     12600\n",
      "   macro avg       0.97      0.96      0.96     12600\n",
      "weighted avg       0.97      0.96      0.96     12600\n",
      "\n",
      "Confusion matrix\n",
      "[[1219    0    0    1    0    0    4    0    0    0]\n",
      " [   0 1404    0    1    1    0    2    1    0    2]\n",
      " [   9   16 1200    3    0    1    1   25    3    4]\n",
      " [   1    4    6 1266    2   13    1    9    8    4]\n",
      " [   2    8    0    0 1140    0    4    3    0   27]\n",
      " [   3    3    1   18    1 1097   14    1    1    8]\n",
      " [   9    1    0    1    0    6 1184    0    1    0]\n",
      " [   0   19    7    0    8    0    0 1310    0    7]\n",
      " [   4   18   10   21    9   21    7    5 1137   13]\n",
      " [   6    1    1    8   24    1    1   18    1 1199]]\n"
     ]
    }
   ],
   "source": [
    "# re-train our classifier using the best k value and predict the labels of the\n",
    "# test data\n",
    "\n",
    "knn_clf_bestK = KNeighborsClassifier(n_neighbors=kVals[i])\n",
    "knn_clf_bestK.fit(X_train, y_train)\n",
    "y_pred = knn_clf_bestK.predict(X_test)\n",
    "\n",
    "# show a final classification report demonstrating the accuracy of the classifier\n",
    "# for each of the digits\n",
    "\n",
    "print(\"EVALUATION ON TESTING DATA\")\n",
    "print(classification_report(y_test, y_pred))\n",
    "\n",
    "print (\"Confusion matrix\")\n",
    "print(confusion_matrix(y_test, y_pred))"
   ]
  },
  {
   "cell_type": "code",
   "execution_count": 34,
   "metadata": {},
   "outputs": [],
   "source": [
    "subm_pred = knn_clf_bestK.predict(test)\n"
   ]
  },
  {
   "cell_type": "code",
   "execution_count": 33,
   "metadata": {},
   "outputs": [],
   "source": [
    "submissions=pd.DataFrame({\"ImageId\": list(range(1,len(subm_pred)+1)), \"Label\": subm_pred})\n",
    "# Generate csv file\n",
    "submissions.to_csv(\"submission.csv\", index=False, header=True)\n"
   ]
  },
  {
   "cell_type": "code",
   "execution_count": 32,
   "metadata": {},
   "outputs": [
    {
     "data": {
      "text/plain": [
       "array([2, 0, 9, ..., 3, 9, 2], dtype=int64)"
      ]
     },
     "execution_count": 32,
     "metadata": {},
     "output_type": "execute_result"
    }
   ],
   "source": [
    "subm_pred\n"
   ]
  }
 ],
 "metadata": {
  "kernelspec": {
   "display_name": "Python 3",
   "language": "python",
   "name": "python3"
  },
  "language_info": {
   "codemirror_mode": {
    "name": "ipython",
    "version": 3
   },
   "file_extension": ".py",
   "mimetype": "text/x-python",
   "name": "python",
   "nbconvert_exporter": "python",
   "pygments_lexer": "ipython3",
   "version": "3.6.8"
  }
 },
 "nbformat": 4,
 "nbformat_minor": 2
}
